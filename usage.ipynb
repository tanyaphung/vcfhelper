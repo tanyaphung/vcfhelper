{
 "cells": [
  {
   "cell_type": "markdown",
   "metadata": {},
   "source": [
    "## Getting started\n",
    "### Clone the repo to your working directory\n",
    "\n",
    "```\n",
    "git clone https://github.com/tanyaphung/vcfhelper.git\n",
    "```\n",
    "\n",
    "### Version and dependencies\n",
    "* vcfhelper was developed and tested using Python version 3.7\n",
    "\n",
    "### About\n",
    "* vcfhelper is a collection of python scripts to help with processing vcf files. vcfhelper contains scripts to:\n",
    "    1. Extract annotations from the vcf file for each variant\n",
    "    2. Tabulate the number of sites in the vcf "
   ]
  },
  {
   "cell_type": "code",
   "execution_count": 6,
   "metadata": {},
   "outputs": [],
   "source": [
    "## Change to the relevant directory\n",
    "import os\n",
    "os.getcwd()\n",
    "os.chdir('c:\\\\Users\\\\tuyen\\\\Documents\\\\github_repo\\\\vcfhelper')"
   ]
  },
  {
   "cell_type": "markdown",
   "metadata": {},
   "source": [
    "## Usage\n",
    "### Extract annotations from the vcf file for each variant\n",
    "* For this, call the script `extract_stats_from_vcf.py`"
   ]
  },
  {
   "cell_type": "code",
   "execution_count": 7,
   "metadata": {},
   "outputs": [
    {
     "name": "stdout",
     "output_type": "stream",
     "text": [
      "usage: extract_stats_from_vcf.py [-h] --vcf VCF --outfile OUTFILE S [S ...]\n",
      "\n",
      "This script extracts statistics from vcf file.\n",
      "\n",
      "positional arguments:\n",
      "  S                  Statistics from the vcf file to be extracted.\n",
      "\n",
      "optional arguments:\n",
      "  -h, --help         show this help message and exit\n",
      "  --vcf VCF          REQUIRED. Path to the vcf file.\n",
      "  --outfile OUTFILE  REQUIRED. Path to the output file.\n"
     ]
    }
   ],
   "source": [
    "%run extract_stats_from_vcf.py -h"
   ]
  },
  {
   "cell_type": "markdown",
   "metadata": {},
   "source": [
    "* Example: Let's say that I want to extract out the depth information (DP) and fisher score (FS). This is how I would run the script:"
   ]
  },
  {
   "cell_type": "code",
   "execution_count": 7,
   "metadata": {},
   "outputs": [],
   "source": [
    "%run extract_stats_from_vcf.py DP FS --vcf test_files/chrX.vcf --outfile test_files/chrX_DP_FS.txt"
   ]
  },
  {
   "cell_type": "code",
   "execution_count": 8,
   "metadata": {},
   "outputs": [
    {
     "name": "stdout",
     "output_type": "stream",
     "text": [
      "DP\tFS\n",
      "349\t0.000\n",
      "395\t11.633\n",
      "646\t0.000\n",
      "567\t0.000\n",
      "600\t2.808\n",
      "600\t0.000\n",
      "609\t2.310\n",
      "640\t2.347\n",
      "646\t2.555\n"
     ]
    }
   ],
   "source": [
    "%%bash \n",
    "head test_files/chrX_DP_FS.txt"
   ]
  },
  {
   "cell_type": "markdown",
   "metadata": {},
   "source": [
    "### Calculate the number of sites/variants in a vcf\n",
    "* For this, call the script `calc_num_site_in_vcf.py`"
   ]
  },
  {
   "cell_type": "code",
   "execution_count": 9,
   "metadata": {},
   "outputs": [
    {
     "name": "stdout",
     "output_type": "stream",
     "text": [
      "usage: calc_num_site_in_vcf.py [-h] --vcf VCF\n",
      "\n",
      "Calculate the number of sites in a vcf file\n",
      "\n",
      "optional arguments:\n",
      "  -h, --help  show this help message and exit\n",
      "  --vcf VCF   REQUIRED. Input the path to the vcf file.\n"
     ]
    }
   ],
   "source": [
    "%run calc_num_site_in_vcf.py -h"
   ]
  },
  {
   "cell_type": "markdown",
   "metadata": {},
   "source": [
    "* Example: Let's say that I want to calculate how many sites there are in the vcf file chrX.vcf in the test_files directory. This is how I run the script:"
   ]
  },
  {
   "cell_type": "code",
   "execution_count": 10,
   "metadata": {},
   "outputs": [
    {
     "name": "stdout",
     "output_type": "stream",
     "text": [
      "471980\n"
     ]
    }
   ],
   "source": [
    "%run calc_num_site_in_vcf.py --vcf test_files/chrX.vcf"
   ]
  },
  {
   "cell_type": "markdown",
   "metadata": {},
   "source": [
    "* This indicates that there are 471,980 sites in the vcf file. "
   ]
  },
  {
   "cell_type": "code",
   "execution_count": null,
   "metadata": {},
   "outputs": [],
   "source": []
  }
 ],
 "metadata": {
  "kernelspec": {
   "display_name": "Python 3",
   "language": "python",
   "name": "python3"
  },
  "language_info": {
   "codemirror_mode": {
    "name": "ipython",
    "version": 3
   },
   "file_extension": ".py",
   "mimetype": "text/x-python",
   "name": "python",
   "nbconvert_exporter": "python",
   "pygments_lexer": "ipython3",
   "version": "3.7.1"
  }
 },
 "nbformat": 4,
 "nbformat_minor": 2
}
